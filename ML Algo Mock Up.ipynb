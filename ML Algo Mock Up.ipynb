{
 "cells": [
  {
   "cell_type": "code",
   "execution_count": null,
   "id": "a64f8c1a",
   "metadata": {},
   "outputs": [],
   "source": [
    "# A mockup of our linar regression machine learning model: comparing and predicting happiness and GDP\n",
    "# references \n",
    "# https://towardsdatascience.com/machine-learning-with-python-regression-complete-tutorial-47268e546cea\n",
    "# https://www.youtube.com/watch?v=E5RjzSK0fvY\n",
    "# https://www.youtube.com/watch?v=VmbA0pi2cRQ&t=10s"
   ]
  },
  {
   "cell_type": "code",
   "execution_count": null,
   "id": "c64ebe70",
   "metadata": {},
   "outputs": [],
   "source": [
    "# future changes:\n",
    "# 1. insert correct files names\n",
    "# 2. insert colors\n",
    "#3. insert labels"
   ]
  },
  {
   "cell_type": "code",
   "execution_count": 2,
   "id": "c3b6aa25",
   "metadata": {},
   "outputs": [],
   "source": [
    "## for data\n",
    "import pandas as pd\n",
    "import numpy as np\n",
    "## for plotting\n",
    "import matplotlib.pyplot as plt\n",
    "import seaborn as sns\n",
    "## for statistical tests\n",
    "import scipy\n",
    "import statsmodels.formula.api as smf\n",
    "import statsmodels.api as sm\n",
    "## for machine learning\n",
    "from sklearn import model_selection, preprocessing, feature_selection, ensemble, linear_model, metrics, decomposition"
   ]
  },
  {
   "cell_type": "code",
   "execution_count": null,
   "id": "460c7cec",
   "metadata": {},
   "outputs": [],
   "source": [
    "# read the data into a df\n",
    "\n",
    "data= pd.read_csv(\" *COMPLETED CSV FILE NAME* \")\n",
    "# cols = [\"A\",\"B\",\"C\", \"D\",\"E\"]\n",
    "\n",
    "# idk what these are, might need it later though \n",
    "#dtf = dtf[[\"Id\"]+cols+[\"SalePrice\"]]\n",
    "\n",
    "print(*somethin*)\n",
    "data.head()"
   ]
  },
  {
   "cell_type": "code",
   "execution_count": null,
   "id": "ab3af7ff",
   "metadata": {},
   "outputs": [],
   "source": [
    "#to test data scatterplot\n",
    "#plt.scatter(data. somthin)"
   ]
  },
  {
   "cell_type": "code",
   "execution_count": null,
   "id": "f5c84e25",
   "metadata": {},
   "outputs": [],
   "source": [
    "# collecting X and Y\n",
    "X = data['GDP'].values\n",
    "Y = data['happiness'].values"
   ]
  },
  {
   "cell_type": "code",
   "execution_count": null,
   "id": "a0e79fbf",
   "metadata": {},
   "outputs": [],
   "source": [
    "# mean for graphing\n",
    "\n",
    "mean_x = np.mean(x)\n",
    "mean_y = np.mean(y)\n",
    "\n",
    "# totals\n",
    "\n",
    "m = len(x)\n",
    "\n",
    "# using this guy's formula to calculate b1 and b0\n",
    "numer = 0\n",
    "denom = 0\n",
    "for i in range(m):\n",
    "    number += (x[i] - mean_x) * (Y[i] - mean_y)\n",
    "    denom += (x[i] - mean_x) ** 2\n",
    "b1 = numer / denom\n",
    "b0 = mean_y - (b1 * mean_x)\n",
    "\n",
    "#hopefully that works, print dat\n",
    "print(b1, b0)"
   ]
  },
  {
   "cell_type": "code",
   "execution_count": null,
   "id": "f63131e4",
   "metadata": {},
   "outputs": [],
   "source": []
  },
  {
   "cell_type": "code",
   "execution_count": null,
   "id": "3a44c4af",
   "metadata": {},
   "outputs": [],
   "source": [
    "#plot values and regression line?\n",
    "max_x = np.max(x) + 100\n",
    "min_x = np.min(x) - 100\n",
    "\n",
    "#calculate line values x and y\n",
    "x = np.linspace(min_x, max_x, 1000) #why 1000?\n",
    "y = b0 + b1 * x\n",
    "\n",
    "# plot line, the best pabrt\n",
    "plt.plot(x, y, color= '#58b970', label = \"Regression Line')\n",
    "\n",
    "#plot scatterplot\n",
    "plt.scatter(x, y, c='ef5423', label 'GDP x Happiness')\n",
    "\n",
    "#extras\n",
    "plt.xlabel('GDP in US Dollars')\n",
    "plt.ylabel('Happiness of persons')\n",
    "plt.legend()\n",
    "plt.show()"
   ]
  },
  {
   "cell_type": "code",
   "execution_count": null,
   "id": "25e8f5ba",
   "metadata": {},
   "outputs": [],
   "source": [
    "#test it, we can change it later but i'm going r2\n",
    "ss_t = 0\n",
    "ss_r = 0\n",
    "for i in range(m):\n",
    "    y_pred = b0 + b1 * x[i]\n",
    "    ss_t += (Y[i] - mean_y) ** 2\n",
    "    ss_r += (Y[i] - y_pred) ** 2\n",
    "r2 = 1 - (ss_r/ss_t)\n",
    "print(r2)"
   ]
  },
  {
   "cell_type": "code",
   "execution_count": null,
   "id": "ae2c8bd5",
   "metadata": {},
   "outputs": [],
   "source": [
    "#sklearn stuff, double check\n",
    "from sklearn.linear_model import LinearRegression\n",
    "from sklearn.metrics import mean_squared_error\n",
    "\n",
    "#no rank 1 (????)\n",
    "X =X.reshape((m, 1))\n",
    "#create the model\n",
    "reg = LinearRegression()\n",
    "#fitting training data\n",
    "reg = reg.fit(x, y)\n",
    "# Y prediction\n",
    "Y_pred = reg.predict(X)\n",
    "\n",
    "#calculate r2\n",
    "r2_score = reg.score(X, Y)\n",
    "print(r2_score)"
   ]
  },
  {
   "cell_type": "code",
   "execution_count": null,
   "id": "af3232ab",
   "metadata": {},
   "outputs": [],
   "source": [
    "# alternatives\n",
    "# Manually calculate loss\n",
    "#def loss_function(m, b, points):\n",
    "#   total_error = 0\n",
    "#    for i in range(len(points)):\n",
    "#        x = points.iloc[i].GDP\n",
    "#        y = points.iloc[i].happiness\n",
    "#        total_error += (y - (m*x+b)** 2)\n",
    "    #total error /float(len(points))\n",
    "    \n",
    "#graduent decent\n",
    "def gradeint_descent(m_now, b_now, points, L)\n",
    "m_gradient = 0\n",
    "b_gradient = 0\n",
    "\n",
    "n = len(points)\n",
    "\n",
    "for i in range(n):\n",
    "        x = points.iloc[i].GDP\n",
    "        y = points.iloc[i].happiness\n",
    "        \n",
    "        m_gradient += -(2/n) * x * (y-(m_now * x + b_now))\n",
    "        b_gradient += -(2/n) * (y-(m_now * x + b_now))\n",
    "        \n",
    "    m + m_now - m_gradient * L\n",
    "    b + b_now - b_gradient * L\n",
    "    \n",
    "m = 0\n",
    "b = 0\n",
    "L = 0.0001\n",
    "epochs = 1000\n",
    "\n",
    "for i in range(epochs):\n",
    "    m, b = gradient_descent(m, b, data, L)\n",
    "    \n",
    "print(m, b)\n",
    "\n",
    "plt.scatter(data.studytime, data.score, color=\"xxxx\")\n",
    "plt.plot(), [m * x + b for x]\n",
    "plt.show"
   ]
  }
 ],
 "metadata": {
  "kernelspec": {
   "display_name": "Python 3 (ipykernel)",
   "language": "python",
   "name": "python3"
  },
  "language_info": {
   "codemirror_mode": {
    "name": "ipython",
    "version": 3
   },
   "file_extension": ".py",
   "mimetype": "text/x-python",
   "name": "python",
   "nbconvert_exporter": "python",
   "pygments_lexer": "ipython3",
   "version": "3.9.12"
  }
 },
 "nbformat": 4,
 "nbformat_minor": 5
}
