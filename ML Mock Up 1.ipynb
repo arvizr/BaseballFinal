{
 "cells": [
  {
   "cell_type": "code",
   "execution_count": null,
   "id": "feacbbb3",
   "metadata": {},
   "outputs": [],
   "source": [
    "# A mockup of our linar regression machine learning model: comparing and predicting happiness and GDP\n",
    "# references \n",
    "# https://towardsdatascience.com/machine-learning-with-python-regression-complete-tutorial-47268e546cea\n",
    "# https://www.youtube.com/watch?v=E5RjzSK0fvY\n",
    "# https://www.youtube.com/watch?v=VmbA0pi2cRQ&t=10s"
   ]
  },
  {
   "cell_type": "code",
   "execution_count": null,
   "id": "c866c71e",
   "metadata": {},
   "outputs": [],
   "source": [
    "# future changes:\n",
    "# 1. insert correct files names\n",
    "# 2. insert colors\n",
    "#3. insert labels"
   ]
  },
  {
   "cell_type": "code",
   "execution_count": 3,
   "id": "003f83f7",
   "metadata": {},
   "outputs": [],
   "source": [
    "## for data\n",
    "import pandas as pd\n",
    "import numpy as np\n",
    "## for plotting\n",
    "import matplotlib.pyplot as plt\n",
    "import seaborn as sns\n",
    "## for statistical tests\n",
    "import scipy\n",
    "import statsmodels.formula.api as smf\n",
    "import statsmodels.api as sm\n",
    "## for machine learning\n",
    "from sklearn import model_selection, preprocessing, feature_selection, ensemble, linear_model, metrics, decomposition"
   ]
  },
  {
   "cell_type": "code",
   "execution_count": 11,
   "id": "c97cbb59",
   "metadata": {},
   "outputs": [
    {
     "name": "stdout",
     "output_type": "stream",
     "text": [
      "(142, 5)\n"
     ]
    },
    {
     "data": {
      "text/html": [
       "<div>\n",
       "<style scoped>\n",
       "    .dataframe tbody tr th:only-of-type {\n",
       "        vertical-align: middle;\n",
       "    }\n",
       "\n",
       "    .dataframe tbody tr th {\n",
       "        vertical-align: top;\n",
       "    }\n",
       "\n",
       "    .dataframe thead th {\n",
       "        text-align: right;\n",
       "    }\n",
       "</style>\n",
       "<table border=\"1\" class=\"dataframe\">\n",
       "  <thead>\n",
       "    <tr style=\"text-align: right;\">\n",
       "      <th></th>\n",
       "      <th>Country</th>\n",
       "      <th>Life Expectancy (years) - Men</th>\n",
       "      <th>Life Expectancy (years) - Women</th>\n",
       "      <th>Happiness Score</th>\n",
       "      <th>Suicide rate</th>\n",
       "    </tr>\n",
       "  </thead>\n",
       "  <tbody>\n",
       "    <tr>\n",
       "      <th>0</th>\n",
       "      <td>Afghanistan</td>\n",
       "      <td>60.6</td>\n",
       "      <td>68.2</td>\n",
       "      <td>3.794</td>\n",
       "      <td>20.6</td>\n",
       "    </tr>\n",
       "    <tr>\n",
       "      <th>1</th>\n",
       "      <td>Albania</td>\n",
       "      <td>74.8</td>\n",
       "      <td>81.3</td>\n",
       "      <td>4.959</td>\n",
       "      <td>32.4</td>\n",
       "    </tr>\n",
       "    <tr>\n",
       "      <th>2</th>\n",
       "      <td>Algeria</td>\n",
       "      <td>73.3</td>\n",
       "      <td>78.9</td>\n",
       "      <td>5.605</td>\n",
       "      <td>15.6</td>\n",
       "    </tr>\n",
       "    <tr>\n",
       "      <th>3</th>\n",
       "      <td>Andorra</td>\n",
       "      <td>81.7</td>\n",
       "      <td>84.8</td>\n",
       "      <td>6.955</td>\n",
       "      <td>18.9</td>\n",
       "    </tr>\n",
       "    <tr>\n",
       "      <th>4</th>\n",
       "      <td>Angola</td>\n",
       "      <td>58.1</td>\n",
       "      <td>65.6</td>\n",
       "      <td>4.105</td>\n",
       "      <td>20.5</td>\n",
       "    </tr>\n",
       "  </tbody>\n",
       "</table>\n",
       "</div>"
      ],
      "text/plain": [
       "       Country  Life Expectancy (years) - Men  \\\n",
       "0  Afghanistan                           60.6   \n",
       "1      Albania                           74.8   \n",
       "2      Algeria                           73.3   \n",
       "3      Andorra                           81.7   \n",
       "4       Angola                           58.1   \n",
       "\n",
       "   Life Expectancy (years) - Women  Happiness Score  Suicide rate  \n",
       "0                             68.2            3.794          20.6  \n",
       "1                             81.3            4.959          32.4  \n",
       "2                             78.9            5.605          15.6  \n",
       "3                             84.8            6.955          18.9  \n",
       "4                             65.6            4.105          20.5  "
      ]
     },
     "execution_count": 11,
     "metadata": {},
     "output_type": "execute_result"
    }
   ],
   "source": [
    "# read the data into a df\n",
    "\n",
    "data= pd.read_csv(\"joined_final_tables.csv\")\n",
    "\n",
    "# idk what these are, might need it later though \n",
    "#dtf = dtf[[\"Id\"]+cols+[\"SalePrice\"]]\n",
    "\n",
    "print(data.shape)\n",
    "data.head()"
   ]
  },
  {
   "cell_type": "code",
   "execution_count": 14,
   "id": "9aee3b22",
   "metadata": {},
   "outputs": [],
   "source": [
    "# collect x and y\n",
    "X = data['Happiness Score'].values\n",
    "Y = data['Life Expectancy (years) - Women'].values"
   ]
  },
  {
   "cell_type": "code",
   "execution_count": 20,
   "id": "53eebdf2",
   "metadata": {},
   "outputs": [
    {
     "name": "stdout",
     "output_type": "stream",
     "text": [
      "5.135444778038931 48.428493032780594\n"
     ]
    }
   ],
   "source": [
    "# mean for graphing\n",
    "\n",
    "mean_x = np.mean(X)\n",
    "mean_y = np.mean(Y)\n",
    "\n",
    "# totals\n",
    "\n",
    "m = len(X)\n",
    "\n",
    "# using this guy's formula to calculate b1 and b0\n",
    "numer = 0\n",
    "denom = 0\n",
    "for i in range(m):\n",
    "    numer += (X[i] - mean_x) * (Y[i] - mean_y)\n",
    "    denom  += (X[i] - mean_x) ** 2\n",
    "b1 = numer / denom\n",
    "b0 = mean_y - (b1 * mean_x)\n",
    "\n",
    "#hopefully that works, print dat\n",
    "print(b1, b0)"
   ]
  },
  {
   "cell_type": "code",
   "execution_count": 32,
   "id": "2267fede",
   "metadata": {},
   "outputs": [
    {
     "data": {
      "image/png": "[encoded data removed]",
      "text/plain": [
       "<Figure size 432x288 with 1 Axes>"
      ]
     },
     "metadata": {
      "needs_background": "light"
     },
     "output_type": "display_data"
    }
   ],
   "source": [
    "#plot values and regression line?\n",
    "max_x = np.max(X) + 2\n",
    "min_x = np.min(X) - 0\n",
    "\n",
    "#calculate line values x and y\n",
    "x = np.linspace(min_x, max_x, 1000) #why 1000?\n",
    "y = b0 + b1 * x\n",
    "\n",
    "# plot line, the best part\n",
    "plt.plot(x, y, color= '#58b970', label = 'Regression Line')\n",
    "\n",
    "#plot scatterplot\n",
    "plt.scatter(X, Y, c='#ef5423', label = 'Persons')\n",
    "\n",
    "#extras\n",
    "plt.xlabel('Happiness of persons')\n",
    "plt.ylabel('Life Expectancy')\n",
    "plt.legend()\n",
    "plt.show()"
   ]
  },
  {
   "cell_type": "code",
   "execution_count": 33,
   "id": "334cb337",
   "metadata": {},
   "outputs": [
    {
     "name": "stdout",
     "output_type": "stream",
     "text": [
      "-2.1719998300716745\n"
     ]
    }
   ],
   "source": [
    "#test it, we can change it later but i'm going r2\n",
    "ss_t = 0\n",
    "ss_r = 0\n",
    "for i in range(m):\n",
    "    y_pred = b0 + b1 * x[i]\n",
    "    ss_t += (Y[i] - mean_y) ** 2\n",
    "    ss_r += (Y[i] - y_pred) ** 2\n",
    "r2 = 1 - (ss_r/ss_t)\n",
    "print(r2)"
   ]
  },
  {
   "cell_type": "code",
   "execution_count": 36,
   "id": "d427b910",
   "metadata": {},
   "outputs": [
    {
     "name": "stdout",
     "output_type": "stream",
     "text": [
      "0.7545223657898436\n"
     ]
    }
   ],
   "source": [
    "#sklearn stuff, double check\n",
    "from sklearn.linear_model import LinearRegression\n",
    "from sklearn.metrics import mean_squared_error\n",
    "\n",
    "#no rank 1 (????)\n",
    "X = X.reshape((m, 1))\n",
    "#create the model\n",
    "reg = LinearRegression()\n",
    "#fitting training data\n",
    "reg = reg.fit(X, Y)\n",
    "# Y prediction\n",
    "Y_pred = reg.predict(X)\n",
    "\n",
    "#calculate r2\n",
    "r2_score = reg.score(X, Y)\n",
    "print(r2_score)"
   ]
  },
  {
   "cell_type": "code",
   "execution_count": null,
   "id": "75037c53",
   "metadata": {},
   "outputs": [],
   "source": []
  }
 ],
 "metadata": {
  "kernelspec": {
   "display_name": "Python 3 (ipykernel)",
   "language": "python",
   "name": "python3"
  },
  "language_info": {
   "codemirror_mode": {
    "name": "ipython",
    "version": 3
   },
   "file_extension": ".py",
   "mimetype": "text/x-python",
   "name": "python",
   "nbconvert_exporter": "python",
   "pygments_lexer": "ipython3",
   "version": "3.9.12"
  }
 },
 "nbformat": 4,
 "nbformat_minor": 5
}
